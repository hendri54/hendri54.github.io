{
 "cells": [
  {
   "cell_type": "markdown",
   "id": "smart-heating",
   "metadata": {},
   "source": [
    "# Multiple Dispatch\n",
    "\n",
    "The task: Write a function that shows \n",
    "\n",
    "* \"Int64 5\" for an Integer input\n",
    "* \"Float64 1.2\" for a Float input (note the rounding)\n",
    "* \"I do not know this type: TheType\" for all other inputs"
   ]
  },
  {
   "cell_type": "markdown",
   "id": "chemical-victim",
   "metadata": {},
   "source": [
    "## The \"Matlab\" Implementation\n",
    "\n",
    "Tempting, but not efficient and not extendable."
   ]
  },
  {
   "cell_type": "code",
   "execution_count": 1,
   "id": "broadband-shame",
   "metadata": {},
   "outputs": [
    {
     "data": {
      "text/plain": [
       "myshow_bad (generic function with 1 method)"
      ]
     },
     "execution_count": 1,
     "metadata": {},
     "output_type": "execute_result"
    }
   ],
   "source": [
    "function myshow_bad(x :: T) where T\n",
    "    if T <: Integer\n",
    "        println(\"$T $x\");\n",
    "    elseif T <: AbstractFloat\n",
    "        println(\"$T $(round(x, digits = 1))\");\n",
    "    else\n",
    "        println(\"I do not know this type: $T\");\n",
    "    end\n",
    "    return nothing\n",
    "end"
   ]
  },
  {
   "cell_type": "code",
   "execution_count": 2,
   "id": "surprised-jacksonville",
   "metadata": {},
   "outputs": [
    {
     "name": "stdout",
     "output_type": "stream",
     "text": [
      "Int64 1\n"
     ]
    }
   ],
   "source": [
    "myshow_bad(1)"
   ]
  },
  {
   "cell_type": "code",
   "execution_count": 3,
   "id": "equipped-plate",
   "metadata": {},
   "outputs": [
    {
     "name": "stdout",
     "output_type": "stream",
     "text": [
      "I do not know this type: String\n"
     ]
    }
   ],
   "source": [
    "myshow_bad(\"any other type\")"
   ]
  },
  {
   "cell_type": "markdown",
   "id": "centered-chance",
   "metadata": {},
   "source": [
    "It works, but requires an entry in the `if ... else` branch for each type."
   ]
  },
  {
   "cell_type": "markdown",
   "id": "handed-africa",
   "metadata": {},
   "source": [
    "## The Julian way: multiple dispatch\n",
    "With a fallback method."
   ]
  },
  {
   "cell_type": "code",
   "execution_count": 4,
   "id": "collective-archives",
   "metadata": {},
   "outputs": [],
   "source": [
    "myshow(x :: T) where T <: Integer = println(\"$T $x\");\n",
    "\n",
    "myshow(x :: T) where T <: AbstractFloat = println(\"$T $(round(x, digits = 1))\");\n",
    "\n",
    "# Fallback method\n",
    "myshow(x :: T) where T = println(\"I do not know this type: $T\");"
   ]
  },
  {
   "cell_type": "code",
   "execution_count": 5,
   "id": "parallel-boulder",
   "metadata": {},
   "outputs": [
    {
     "name": "stdout",
     "output_type": "stream",
     "text": [
      "Int64 1\n",
      "Float64 1.2\n",
      "I do not know this type: String\n"
     ]
    }
   ],
   "source": [
    "myshow(1);\n",
    "myshow(1.2345);\n",
    "myshow(\"any other type\");"
   ]
  },
  {
   "cell_type": "markdown",
   "id": "square-charter",
   "metadata": {},
   "source": [
    "Now we can add a new method to extend."
   ]
  },
  {
   "cell_type": "code",
   "execution_count": 6,
   "id": "affected-analyst",
   "metadata": {},
   "outputs": [],
   "source": [
    "myshow(x :: T) where T <: AbstractString = println(\"Now I know strings: $x\");"
   ]
  },
  {
   "cell_type": "code",
   "execution_count": 7,
   "id": "given-eclipse",
   "metadata": {},
   "outputs": [
    {
     "name": "stdout",
     "output_type": "stream",
     "text": [
      "Now I know strings: I am a string\n"
     ]
    }
   ],
   "source": [
    "myshow(\"I am a string\")"
   ]
  },
  {
   "cell_type": "code",
   "execution_count": null,
   "id": "german-guitar",
   "metadata": {},
   "outputs": [],
   "source": []
  }
 ],
 "metadata": {
  "@webio": {
   "lastCommId": null,
   "lastKernelId": null
  },
  "kernelspec": {
   "display_name": "Julia 1.6.0",
   "language": "julia",
   "name": "julia-1.6"
  },
  "language_info": {
   "file_extension": ".jl",
   "mimetype": "application/julia",
   "name": "julia",
   "version": "1.6.1"
  }
 },
 "nbformat": 4,
 "nbformat_minor": 5
}
